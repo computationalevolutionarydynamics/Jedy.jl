{
 "metadata": {
  "language": "Julia",
  "name": "",
  "signature": "sha256:18b3a7226c4ec40ac558709bd103e1ded449d0b158b1aaa0a5a0dfdcf76327e2"
 },
 "nbformat": 3,
 "nbformat_minor": 0,
 "worksheets": [
  {
   "cells": [
    {
     "cell_type": "heading",
     "level": 2,
     "metadata": {},
     "source": [
      "Introduction"
     ]
    },
    {
     "cell_type": "markdown",
     "metadata": {},
     "source": [
      "We will aim to replicate the results of [Imhof et. al.](http://www.pnas.org/content/102/31/10797.full) by using the Moran process to simulate the game of the iterated prisoners dilemma in a population with random mutations.\n",
      "\n",
      "In the prisoners dilemma, each individual has two possible actions: cooperate or defect. If bother prisoners cooperate, they each receive some payoff $R$. If both prisoners defect the obtain a lower payoff $P$. However if one prisoner defects and the other cooperates, they receive the highest payoff $T$ and the lowest payoff $S$ respectively. This gives us $T > R > P > S$.\n",
      "\n",
      "If the game is repeated, the analysis of different strategies becomes possible. The three strategies explored by Imhof et. al. are always cooperate (ALLC), always defect (ALLD) and tit-for-tat (TFT), where the play cooperates in the first round and then does what the opponent did last round. Classical game theoretic analysis shows that TFT (or a minor variant) is the best strategy.\n",
      "\n",
      "Imhof explore the iterated prisoner's dilemma where opponents play an average of $m$ rounds. Since the move that a TFT player chooses for each game is conditional, they introduce a small cost for TFT $c$. This produces a payoff matrix given by\n",
      "\n",
      "$$\n",
      "\\begin{pmatrix}\n",
      "Rm & Sm & Rm \\\\\n",
      "Tm & Pm & T + P(m - 1) \\\\\n",
      "Rm - c & S + P(m - 1) - c & Rm - c\n",
      "\\end{pmatrix}\n",
      "$$"
     ]
    },
    {
     "cell_type": "markdown",
     "metadata": {},
     "source": [
      "Begin by defining a new type called population which will store the number of individuals in the population using each strategy. The constructor takes as an argument an array with the values of the population groups and automatically calculates the total population to save on computation. We also need to define copy for this new data type."
     ]
    },
    {
     "cell_type": "code",
     "collapsed": false,
     "input": [
      "type Population\n",
      "    groups::Array{Int64, 1}\n",
      "    totalPop::Int64\n",
      "    \n",
      "    function Population(groups::Array{Int64, 1})\n",
      "        totalPop = sum(groups)\n",
      "        return new(groups, totalPop)\n",
      "    end\n",
      "end\n",
      "\n",
      "import Base.copy\n",
      "\n",
      "copy(arg::Population) = Population(copy(arg.groups))"
     ],
     "language": "python",
     "metadata": {},
     "outputs": [
      {
       "metadata": {},
       "output_type": "pyout",
       "prompt_number": 3,
       "text": [
        "copy (generic function with 38 methods)"
       ]
      }
     ],
     "prompt_number": 3
    },
    {
     "cell_type": "markdown",
     "metadata": {},
     "source": [
      "We will define a fitness function as given in the paper by Imhof et. al. \n",
      "$$\\begin{equation}\n",
      "f(i) = f(i, x_1, x_2, x_3; N, A) = \\frac{\\sum_{j = 1}^3 a_{ij} x_{j}- a_{ii}}{N - 1}\n",
      "\\end{equation}$$\n",
      "\n",
      "where $i$ is the strategy (1, 2 or 3 for ALLC, ALLD and TFT respectively), $x_1, x_2, x_3$ are the number of invididuals using each strategy, $a_{ij}$ is the payoff for strategy $i$ against strategy $j$, and $N$ is the total population.\n",
      "\n",
      "We implement this function below as $\\text{fitness}$"
     ]
    },
    {
     "cell_type": "code",
     "collapsed": false,
     "input": [
      "function fitness(pop::Population, payoffMatrix::Array{Float64,2})\n",
      "    \n",
      "    fitnessVector = payoffMatrix * pop.groups\n",
      "    fitnessVector -= diag(payoffMatrix)\n",
      "    fitnessVector /= pop.totalPop - 1\n",
      "    \n",
      "end"
     ],
     "language": "python",
     "metadata": {},
     "outputs": [
      {
       "metadata": {},
       "output_type": "pyout",
       "prompt_number": 4,
       "text": [
        "fitness (generic function with 1 method)"
       ]
      }
     ],
     "prompt_number": 4
    },
    {
     "cell_type": "markdown",
     "metadata": {},
     "source": [
      "Now we need a function which will calculate the probabilities of an individual from each population being chosen to reproduce. The probability that an invidividual will reproduce is given by\n",
      "\n",
      "$$\\begin{equation}\n",
      "\\frac{f(i) x_i}{\\sum_{j = 1}^{3} f(j) x_j}\n",
      "\\end{equation}$$\n",
      "\n",
      "We implement this function below as reproductionProbability, which returns a vector containing the probabilities of each population producing offspring."
     ]
    },
    {
     "cell_type": "code",
     "collapsed": false,
     "input": [
      "function reproductionProbability(pop::Population, payoffMatrix::Array{Float64,2})\n",
      "    \n",
      "    fitnessVector = fitness(pop, payoffMatrix)\n",
      "    probVector = fitnessVector .* pop.groups\n",
      "    probVector /= fitnessVector \u22c5 pop.groups\n",
      "    \n",
      "    return probVector\n",
      "end "
     ],
     "language": "python",
     "metadata": {},
     "outputs": [
      {
       "metadata": {},
       "output_type": "pyout",
       "prompt_number": 5,
       "text": [
        "reproductionProbability (generic function with 1 method)"
       ]
      }
     ],
     "prompt_number": 5
    },
    {
     "cell_type": "code",
     "collapsed": false,
     "input": [
      "a = [1 2 3; 4 5 6; 7 8 9]\n",
      "b = [1; 2; 3]\n",
      "a * b"
     ],
     "language": "python",
     "metadata": {},
     "outputs": [
      {
       "metadata": {},
       "output_type": "pyout",
       "prompt_number": 6,
       "text": [
        "3-element Array{Int64,1}:\n",
        " 14\n",
        " 32\n",
        " 50"
       ]
      }
     ],
     "prompt_number": 6
    },
    {
     "cell_type": "markdown",
     "metadata": {},
     "source": [
      "Now we need a function that will simulate a game for one step of the Moran process.\n",
      "\n",
      "We use the reproductionProbability function to choose a random population which will reproduce. We then use the mutation probability to determine which strategy the offspring will use where the offspring will have probability $1 - 2u$ of having the same strategy as the parent and probability $u$ of having each of the other strategies.\n",
      "\n",
      "We also select an individual to die at random based on the proportion of individuals currently using each strategy.\n",
      "\n",
      "Finally we return the new population vector."
     ]
    },
    {
     "cell_type": "code",
     "collapsed": false,
     "input": [
      "function moranProcess!(pop::Population, payoffMatrix::Array{Float64,2}, mutationRate::Float64)\n",
      "    \n",
      "    # Copy population to oldPop so as not to operate on half transitioned states\n",
      "    oldPop = copy(pop)\n",
      "    \n",
      "    # Figure out the number of groups in our population\n",
      "    numGroups = length(pop.groups)\n",
      "    \n",
      "    # First pick the strategy that will reproduce\n",
      "    reproductionProbs = reproductionProbability(oldPop, payoffMatrix)\n",
      "    randNum = rand()\n",
      "    \n",
      "    # In this loop we compare the random number to the cumulative sum of the reproductionProbs vector\n",
      "    # in order to choose the population which will reproduce\n",
      "    for i = 1:numGroups\n",
      "        if randNum < sum(reproductionProbs[1:i])\n",
      "            reproductionStrat = i\n",
      "            break\n",
      "        end\n",
      "    end\n",
      "        \n",
      "    # Next, see which population the offspring will be from\n",
      "    randNum = rand()\n",
      "    \n",
      "    # If the offspring mutates, select a random population to mutate\n",
      "    if randNum > 1 - numGroups * mutationRate\n",
      "        \n",
      "        newStrat = reproductionStrat\n",
      "        \n",
      "        # Keep choosing random strategies until it's not the current one\n",
      "        while newStrat == reproductionStrat\n",
      "            newStrat = rand(1:numGroups)\n",
      "        end\n",
      "        \n",
      "        reproductionStrat = newStrat\n",
      "    end\n",
      "    \n",
      "    # Increment the population that the offspring is in\n",
      "    pop.groups[reproductionStrat] += 1\n",
      "    \n",
      "    # Randomly select an individual to die\n",
      "    deathProbs = oldPop.groups / oldPop.totalPop\n",
      "    \n",
      "    # Generate random number and select individual to die\n",
      "    deathRand = rand()\n",
      "    for i = 1:numGroups\n",
      "        if deathRand < sum(deathProbs[1:i])\n",
      "            pop.groups[i] -= 1\n",
      "            break\n",
      "        end\n",
      "    end\n",
      "    \n",
      "    return pop\n",
      "end"
     ],
     "language": "python",
     "metadata": {},
     "outputs": [
      {
       "metadata": {},
       "output_type": "pyout",
       "prompt_number": 7,
       "text": [
        "moranProcess! (generic function with 1 method)"
       ]
      }
     ],
     "prompt_number": 7
    },
    {
     "cell_type": "markdown",
     "metadata": {},
     "source": [
      "Now we will create and simulate a simple population with $N = 30$, $u = 10^{-2}$, $T=5$, $R = 3$, $P=1$, $S=0.1$, $m = 10$, $c = 0.8$."
     ]
    },
    {
     "cell_type": "code",
     "collapsed": false,
     "input": [
      "function setupVariables(totalPop::Int64)\n",
      "    # Calculate initial population\n",
      "    initialPop = convert(Int64, totalPop/3)\n",
      "    myPop = [initialPop; initialPop; initialPop]\n",
      "    # Set values of the payoffs\n",
      "    T = 5\n",
      "    R = 3\n",
      "    P = 1\n",
      "    S = 0.1\n",
      "    # Set number of rounds to play\n",
      "    m = 10\n",
      "    # Set penalty\n",
      "    c = 0.8\n",
      "    # Hence, calculate payoff matrix\n",
      "    payoffMatrix = [R*m S*m R*m;\n",
      "                    T*m P*m T + P*(m-1);\n",
      "                    R*m-c S+P*(m-1)-c R*m-c]\n",
      "    return Population(myPop), payoffMatrix\n",
      "end    "
     ],
     "language": "python",
     "metadata": {},
     "outputs": [
      {
       "metadata": {},
       "output_type": "pyout",
       "prompt_number": 59,
       "text": [
        "setupVariables (generic function with 3 methods)"
       ]
      }
     ],
     "prompt_number": 59
    },
    {
     "cell_type": "markdown",
     "metadata": {},
     "source": [
      "Now that we have a working Moran process, let's start creating a heatmap. We will use a 31x31 array to hold the values, where the component $(i,j)$ represents the state where $i$ individuals are using ALLC, $j$ individuals are using ALLD and $30 - i - j$ individuals are using TFT."
     ]
    },
    {
     "cell_type": "code",
     "collapsed": false,
     "input": [
      "function genHeatmap(totalPopSize::Int64, iterations::Float64, mutationRate::Float64)\n",
      "    myPop, payoffMatrix = setupVariables(totalPopSize)\n",
      "    heatMap = zeros(Int, (myPop.totalPop + 1)::Int64, (myPop.totalPop + 1)::Int64);\n",
      "    for i = 1:iterations\n",
      "        moranProcess!(myPop,payoffMatrix,mutationRate)\n",
      "        heatMap[myPop.groups[1] + 1 ,myPop.groups[2] + 1] += 1\n",
      "    end\n",
      "    return heatMap\n",
      "end"
     ],
     "language": "python",
     "metadata": {},
     "outputs": [
      {
       "metadata": {},
       "output_type": "pyout",
       "prompt_number": 57,
       "text": [
        "genHeatmap (generic function with 4 methods)"
       ]
      }
     ],
     "prompt_number": 57
    },
    {
     "cell_type": "code",
     "collapsed": false,
     "input": [
      "#@time genHeatmap()"
     ],
     "language": "python",
     "metadata": {},
     "outputs": [],
     "prompt_number": 10
    },
    {
     "cell_type": "code",
     "collapsed": false,
     "input": [
      "#using Gadfly\n",
      "#spy(genHeatmap())"
     ],
     "language": "python",
     "metadata": {},
     "outputs": [],
     "prompt_number": 11
    },
    {
     "cell_type": "markdown",
     "metadata": {},
     "source": [
      "Now we want to calculate the stationary distribution of our population so that we can compare this to our numerical simulation. If we assume that mutations happen very infrequently, then we can calulate the fixation probabilites of the system and use these to derive a transition matrix and thus a stationary distribution.\n",
      "\n",
      "The fixation probability is defined as the probability that a single mutant in a population will eventually take over the entire population. A thorough derivation of this is given in by [Traulsen and Hauert 2009](http://web.evolbio.mpg.de/~traulsen/paper/O5.pdf), however the conclusion is that the probability that a mutant takes over the population is given by\n",
      "$$\\begin{equation}\n",
      "\\mathbb{P}(\\text{fixation}, i \\text{ mutants}) = \\frac{1 + \\sum_{k = 1}^{i - 1}{\\prod_{j = 1}^{k}{\\gamma_j}}}{1 + \\sum_{k = 1}^{N - 1}{\\prod_{j = 1}^{k}{\\gamma_j}}}\n",
      "\\end{equation}$$\n",
      "where\n",
      "$$\\begin{equation}\n",
      "\\gamma_j = \\frac{T_j^-}{T_j^+}\n",
      "\\end{equation}$$\n",
      "and where $T_j^-$ and $T_j^+$ represent the probability that the state where the mutant population is of size $j$ decreases by one or increases by one respectively.\n",
      "\n",
      "$T_j^-$ and $T_j^+$ are given by\n",
      "$$\\begin{align}\n",
      "T_j^- & = \\mathbb{P}(\\text{dominant pop reproduces}) \\times \\mathbb{P}(\\text{mutant dies}) \\\\\n",
      "T_j^+ & = \\mathbb{P}(\\text{mutant pop reproduces}) \\times \\mathbb{P}(\\text{dominant dies}) \\\\\n",
      "\\end{align}$$\n",
      "\n",
      "where the quantities included have already been derived above for use in the simulation.\n",
      "\n",
      "Hence, we can define some functions which will calculate our transition probabilities.\n",
      "\n",
      "First, a function to calculate arbitrary fixation probabilities given a payoff matrix, the populations you wish to calculate (given as indexes) and a value for the number of mutants and the total population."
     ]
    },
    {
     "cell_type": "code",
     "collapsed": false,
     "input": [
      "function fixationProb(payoffMatrix::Array{Float64,2}, dominantPop::Int64, mutantPop::Int64, mutantSize::Int64, totalPopSize::Int64)\n",
      "    \n",
      "    numGroups = size(payoffMatrix,1)\n",
      "    gamma = zeros(Float64, totalPopSize - 1)\n",
      "            \n",
      "    # Loop over all the pop sizes\n",
      "    for k = 1:totalPopSize - 1\n",
      "            \n",
      "        # Generate the population\n",
      "        popArray = zeros(Int64, numGroups)\n",
      "        popArray[dominantPop] = totalPopSize - k\n",
      "        popArray[mutantPop] = k\n",
      "        pop = Population(popArray)\n",
      "\n",
      "        # Find the reproduction probabilities\n",
      "        reproductionProbs = reproductionProbability(pop, payoffMatrix)\n",
      "\n",
      "        # Figure out the probability of mutant decreasing and prob of mutant increasing\n",
      "        probDecrease = reproductionProbs[dominantPop] * k / totalPopSize\n",
      "        probIncrease = reproductionProbs[mutantPop] * (totalPopSize - k) / totalPopSize\n",
      "                \n",
      "        # Calculate gamma\n",
      "        gamma[k] = probDecrease/probIncrease\n",
      "    end\n",
      "            \n",
      "    # Now calculate the fixation probability\n",
      "    fixationProbability =  (1 + sum(map((x)->prod(gamma[1:x]),[1:mutantSize - 1]))) / (1 + sum(map((x)->prod(gamma[1:x]),[1:totalPopSize-1])))\n",
      "end"
     ],
     "language": "python",
     "metadata": {},
     "outputs": [
      {
       "metadata": {},
       "output_type": "pyout",
       "prompt_number": 12,
       "text": [
        "fixationProb (generic function with 1 method)"
       ]
      }
     ],
     "prompt_number": 12
    },
    {
     "cell_type": "markdown",
     "metadata": {},
     "source": [
      "Next, define a function that gets the transition matrix of the system given a payoffMatrix and a total population size"
     ]
    },
    {
     "cell_type": "code",
     "collapsed": false,
     "input": [
      "function transitionProb(payoffMatrix::Array{Float64,2}, totalPopSize::Int64)\n",
      "    \n",
      "    # Get the number of groups\n",
      "    numGroups = size(payoffMatrix, 1)\n",
      "    \n",
      "    transitionMatrix = zeros(Float64, (numGroups,numGroups))\n",
      "    \n",
      "    # Loop over the groups\n",
      "    for i = 1:numGroups\n",
      "        \n",
      "        # Loop over the groups excluding the combination with itself\n",
      "        for j = [1:i-1, i+1:numGroups]\n",
      "            \n",
      "            transitionMatrix[i,j] = fixationProb(payoffMatrix, i, j, 1, totalPopSize)\n",
      "\n",
      "        end\n",
      "        \n",
      "        # Calculate the probability on the diagonal by ensuring that the matrix is stochastic\n",
      "        transitionMatrix[i, i] = 1 - sum(transitionMatrix[i, :])\n",
      "    end\n",
      "    \n",
      "    return transitionMatrix\n",
      "end"
     ],
     "language": "python",
     "metadata": {},
     "outputs": [
      {
       "metadata": {},
       "output_type": "pyout",
       "prompt_number": 16,
       "text": [
        "transitionProb (generic function with 1 method)"
       ]
      }
     ],
     "prompt_number": 16
    },
    {
     "cell_type": "markdown",
     "metadata": {},
     "source": [
      "Now we can compute the stationary distribution by finding the eigenvector that corresponds to the eigenvalue of 1."
     ]
    },
    {
     "cell_type": "code",
     "collapsed": false,
     "input": [
      "function stationaryDistribution(transitionMatrix::Array{Float64,2}, totalPopSize::Int64)\n",
      "    \n",
      "    stationaryVector = abs(eig(transitionProb(payoffMatrix, totalPopSize))[2][2,:])\n",
      "    stationaryVector /= sum(stationaryVector)\n",
      "    \n",
      "end"
     ],
     "language": "python",
     "metadata": {},
     "outputs": [
      {
       "metadata": {},
       "output_type": "pyout",
       "prompt_number": 44,
       "text": [
        "stationaryDistribution (generic function with 1 method)"
       ]
      }
     ],
     "prompt_number": 44
    },
    {
     "cell_type": "code",
     "collapsed": false,
     "input": [
      "totalPop = 60\n",
      "iterations = 1e5\n",
      "mutationRate = 10^-2.\n",
      "heatmap = genHeatmap(totalPop, iterations, mutationRate)\n",
      "calculatedDist = [heatmap[totalPop + 1,1], heatmap[1,totalPop + 1], heatmap[1, 1]]\n",
      "calculatedDist /= sum(calculatedDist)\n",
      "println(calculatedDist)\n",
      "println(stationaryDistribution(payoffMatrix, totalPop))"
     ],
     "language": "python",
     "metadata": {},
     "outputs": [
      {
       "output_type": "stream",
       "stream": "stdout",
       "text": [
        "[0"
       ]
      },
      {
       "output_type": "stream",
       "stream": "stdout",
       "text": [
        ".0,0.5376543209876543,0.4623456790123457]\n",
        "[0.007461547571522985 0.5089919377478209 0.483546514680656]\n"
       ]
      }
     ],
     "prompt_number": 65
    }
   ],
   "metadata": {}
  }
 ]
}