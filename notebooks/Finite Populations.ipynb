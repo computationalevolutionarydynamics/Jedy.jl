{
 "metadata": {
  "language": "Julia",
  "name": "",
  "signature": "sha256:476a51b286786083c11122655518aa4725f0bc52076a518cd65b85662544774c"
 },
 "nbformat": 3,
 "nbformat_minor": 0,
 "worksheets": [
  {
   "cells": [
    {
     "cell_type": "code",
     "collapsed": false,
     "input": [
      "include(\"../src/Jedy.jl\")\n",
      "using PyPlot"
     ],
     "language": "python",
     "metadata": {},
     "outputs": [
      {
       "output_type": "stream",
       "stream": "stderr",
       "text": [
        "INFO: Loading help data...\n"
       ]
      }
     ],
     "prompt_number": 1
    },
    {
     "cell_type": "heading",
     "level": 2,
     "metadata": {},
     "source": [
      "Introduction"
     ]
    },
    {
     "cell_type": "markdown",
     "metadata": {},
     "source": [
      "We will aim to replicate the results of [Imhof et. al.](http://www.pnas.org/content/102/31/10797.full) by using the Moran process to simulate the game of the iterated prisoners dilemma in a population with random mutations.\n",
      "\n",
      "In the prisoners dilemma, each individual has two possible actions: cooperate or defect. If bother prisoners cooperate, they each receive some payoff $R$. If both prisoners defect the obtain a lower payoff $P$. However if one prisoner defects and the other cooperates, they receive the highest payoff $T$ and the lowest payoff $S$ respectively. This gives us $T > R > P > S$.\n",
      "\n",
      "If the game is repeated, the analysis of different strategies becomes possible. The three strategies explored by Imhof et. al. are always cooperate (ALLC), always defect (ALLD) and tit-for-tat (TFT), where the play cooperates in the first round and then does what the opponent did last round. Classical game theoretic analysis shows that TFT (or a minor variant) is the best strategy.\n",
      "\n",
      "Imhof explore the iterated prisoner's dilemma where opponents play an average of $m$ rounds. Since the move that a TFT player chooses for each game is conditional, they introduce a small cost for TFT $c$. This produces a payoff matrix given by\n",
      "\n",
      "$$\n",
      "\\begin{pmatrix}\n",
      "Rm & Sm & Rm \\\\\n",
      "Tm & Pm & T + P(m - 1) \\\\\n",
      "Rm - c & S + P(m - 1) - c & Rm - c\n",
      "\\end{pmatrix}\n",
      "$$"
     ]
    },
    {
     "cell_type": "markdown",
     "metadata": {},
     "source": [
      "We will define a fitness function as given in the paper by Imhof et. al. \n",
      "$$\\begin{equation}\n",
      "f(i) = f(i, x_1, x_2, x_3; N, A) = \\frac{\\sum_{j = 1}^3 a_{ij} x_{j}- a_{ii}}{N - 1}\n",
      "\\end{equation}$$\n",
      "\n",
      "where $i$ is the strategy (1, 2 or 3 for ALLC, ALLD and TFT respectively), $x_1, x_2, x_3$ are the number of invididuals using each strategy, $a_{ij}$ is the payoff for strategy $i$ against strategy $j$, and $N$ is the total population."
     ]
    },
    {
     "cell_type": "markdown",
     "metadata": {},
     "source": [
      "Now we need a function which will calculate the probabilities of an individual from each population being chosen to reproduce. The probability that an invidividual will reproduce is given by\n",
      "\n",
      "$$\\begin{equation}\n",
      "\\frac{f(i) x_i}{\\sum_{j = 1}^{3} f(j) x_j}\n",
      "\\end{equation}$$\n",
      "\n",
      "We implement this function as reproductionProbability, which returns a vector containing the probabilities of each population producing offspring."
     ]
    },
    {
     "cell_type": "markdown",
     "metadata": {},
     "source": [
      "Now we need a function that will simulate a game for one step of the Moran process.\n",
      "\n",
      "We use the reproductionProbability function to choose a random population which will reproduce. We then use the mutation probability to determine which strategy the offspring will use where the offspring will have probability $1 - 2u$ of having the same strategy as the parent and probability $u$ of having each of the other strategies.\n",
      "\n",
      "We also select an individual to die at random based on the proportion of individuals currently using each strategy."
     ]
    },
    {
     "cell_type": "markdown",
     "metadata": {},
     "source": [
      "Now we will create and simulate a simple population with $N = 60$, $u = 10^{-2}$, $T=5$, $R = 3$, $P=1$, $S=0.1$, $m = 10$, $c = 0.8$."
     ]
    },
    {
     "cell_type": "code",
     "collapsed": false,
     "input": [
      "# Calculate initial population\n",
      "initialPop = Population([20, 20, 20], [\"ALLC\", \"ALLD\", \"TFT\"])\n",
      "# Set values of the payoffs\n",
      "T = 5\n",
      "R = 3\n",
      "P = 1\n",
      "S = 0.1\n",
      "# Set number of rounds to play\n",
      "m = 10\n",
      "# Set penalty\n",
      "c = 0.8\n",
      "# Hence, calculate payoff matrix\n",
      "payoffMatrix = [R*m S*m R*m;\n",
      "              T*m P*m T + P*(m-1);\n",
      "              R*m-c S+P*(m-1)-c R*m-c]\n",
      "dilemmaProcess = MoranProcess(initialPop, 1e-3, payoffMatrix, 1.0, \"lin\")"
     ],
     "language": "python",
     "metadata": {},
     "outputs": [
      {
       "metadata": {},
       "output_type": "pyout",
       "prompt_number": 2,
       "text": [
        "MoranProcess(Population([20,20,20],ASCIIString[\"ALLC\",\"ALLD\",\"TFT\"],60),0.001,3x3 Array{Float64,2}:\n",
        " 30.0   1.0  30.0\n",
        " 50.0  10.0  14.0\n",
        " 29.2   8.3  29.2,1.0,\"lin\")"
       ]
      }
     ],
     "prompt_number": 2
    },
    {
     "cell_type": "markdown",
     "metadata": {},
     "source": [
      "We will simulate the MoranProcess for 1000000 iterations, and then we will print the distribution of homogenous states."
     ]
    },
    {
     "cell_type": "code",
     "collapsed": false,
     "input": [
      "estimateStationaryDistribution(10000, dilemmaProcess)"
     ],
     "language": "python",
     "metadata": {},
     "outputs": [
      {
       "metadata": {},
       "output_type": "pyout",
       "prompt_number": 3,
       "text": [
        "3-element Array{Float64,1}:\n",
        " 0.222626\n",
        " 0.605086\n",
        " 0.172289"
       ]
      }
     ],
     "prompt_number": 3
    },
    {
     "cell_type": "markdown",
     "metadata": {},
     "source": [
      "We can visualise which states the population spends its time in by plotting a heatmap of states. Color values are logarithmic"
     ]
    },
    {
     "cell_type": "code",
     "collapsed": false,
     "input": [
      "# Generate a heatmap for states\n",
      "heatmap = generateStateHeatmap(100000, dilemmaProcess)\n",
      "plt.pcolormesh(heatmap)"
     ],
     "language": "python",
     "metadata": {},
     "outputs": [
      {
       "metadata": {},
       "output_type": "display_data",
       "png": "[encoded data removed]",
       "text": [
        "Figure(PyObject <matplotlib.figure.Figure object at 0x7f8aa2881898>)"
       ]
      },
      {
       "metadata": {},
       "output_type": "pyout",
       "prompt_number": 18,
       "text": [
        "PyObject <matplotlib.collections.QuadMesh object at 0x7f8aa232a2e8>"
       ]
      }
     ],
     "prompt_number": 18
    },
    {
     "cell_type": "markdown",
     "metadata": {},
     "source": [
      "Now we want to calculate the stationary distribution of our population so that we can compare this to our numerical simulation. If we assume that mutations happen very infrequently, then we can calulate the fixation probabilites of the system and use these to derive a transition matrix and thus a stationary distribution.\n",
      "\n",
      "The fixation probability is defined as the probability that a single mutant in a population will eventually take over the entire population. A thorough derivation of this is given in by [Traulsen and Hauert 2009](http://web.evolbio.mpg.de/~traulsen/paper/O5.pdf), however the conclusion is that the probability that a mutant takes over the population is given by\n",
      "$$\\begin{equation}\n",
      "\\mathbb{P}(\\text{fixation}, i \\text{ mutants}) = \\frac{1 + \\sum_{k = 1}^{i - 1}{\\prod_{j = 1}^{k}{\\gamma_j}}}{1 + \\sum_{k = 1}^{N - 1}{\\prod_{j = 1}^{k}{\\gamma_j}}}\n",
      "\\end{equation}$$\n",
      "where\n",
      "$$\\begin{equation}\n",
      "\\gamma_j = \\frac{T_j^-}{T_j^+}\n",
      "\\end{equation}$$\n",
      "and where $T_j^-$ and $T_j^+$ represent the probability that the state where the mutant population is of size $j$ decreases by one or increases by one respectively.\n",
      "\n",
      "$T_j^-$ and $T_j^+$ are given by\n",
      "$$\\begin{align}\n",
      "T_j^- & = \\mathbb{P}(\\text{dominant pop reproduces}) \\times \\mathbb{P}(\\text{mutant dies}) \\\\\n",
      "T_j^+ & = \\mathbb{P}(\\text{mutant pop reproduces}) \\times \\mathbb{P}(\\text{dominant dies}) \\\\\n",
      "\\end{align}$$\n",
      "\n",
      "where the quantities included have already been derived above for use in the simulation.\n",
      "\n",
      "Hence, we can define some functions which will calculate our transition probabilities.\n",
      "\n",
      "First, a function to calculate arbitrary fixation probabilities given a payoff matrix, the populations you wish to calculate (given as indexes) and a value for the number of mutants and the total population."
     ]
    },
    {
     "cell_type": "markdown",
     "metadata": {},
     "source": [
      "Next, define a function that gets the transition matrix of the system given a payoffMatrix and a total population size"
     ]
    },
    {
     "cell_type": "markdown",
     "metadata": {},
     "source": [
      "Now we can compute the stationary distribution by finding the eigenvector that corresponds to the eigenvalue of 1."
     ]
    },
    {
     "cell_type": "code",
     "collapsed": false,
     "input": [
      "computeStationaryDistribution(dilemmaProcess)"
     ],
     "language": "python",
     "metadata": {},
     "outputs": [
      {
       "metadata": {},
       "output_type": "pyout",
       "prompt_number": 9,
       "text": [
        "1x3 Array{Float64,2}:\n",
        " 0.00746155  0.508992  0.483547"
       ]
      }
     ],
     "prompt_number": 9
    }
   ],
   "metadata": {}
  }
 ]
}