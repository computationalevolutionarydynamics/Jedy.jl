{
 "metadata": {
  "language": "Julia",
  "name": "",
  "signature": "sha256:986e3521e030627412efddea0769446518513cdd4837928f1bee7a6bb79fc891"
 },
 "nbformat": 3,
 "nbformat_minor": 0,
 "worksheets": [
  {
   "cells": [
    {
     "cell_type": "markdown",
     "metadata": {},
     "source": [
      "#Evolutionary cycles of cooperation and defection"
     ]
    },
    {
     "cell_type": "markdown",
     "metadata": {},
     "source": [
      "Here we replicate the results of Imhof et al. (2010)."
     ]
    },
    {
     "cell_type": "code",
     "collapsed": false,
     "input": [],
     "language": "python",
     "metadata": {},
     "outputs": []
    }
   ],
   "metadata": {}
  }
 ]
}