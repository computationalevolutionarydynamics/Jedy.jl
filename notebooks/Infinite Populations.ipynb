{
 "metadata": {
  "language": "Julia",
  "name": "",
  "signature": "sha256:a8a793b970781dc8f92d620eef98ad05c94b58d4218f388cf5abb26af12fb836"
 },
 "nbformat": 3,
 "nbformat_minor": 0,
 "worksheets": [
  {
   "cells": [
    {
     "cell_type": "markdown",
     "metadata": {},
     "source": [
      "#Evolutionary Dynamics in Infinite Populations"
     ]
    },
    {
     "cell_type": "code",
     "collapsed": false,
     "input": [
      "using PyPlot\n",
      "using ODE"
     ],
     "language": "python",
     "metadata": {},
     "outputs": [
      {
       "output_type": "stream",
       "stream": "stderr",
       "text": [
        "INFO: Loading help data...\n"
       ]
      }
     ],
     "prompt_number": 3
    },
    {
     "cell_type": "markdown",
     "metadata": {},
     "source": [
      "A population contains a set of $n$ strategies where the $i$th strategy's frequency is given by $x_i$. The sum of all frequencies is 1.\n",
      "\n",
      "The fitness of a strategy $f_i$ is defined as\n",
      "$$\\begin{equation}\n",
      "f_i = \\sum_{j = 1}^n a_{ij} x_{j}\n",
      "\\end{equation}$$\n",
      "\n",
      "where $a_{ij}$ represents the element $(i,j)$ on the payoff matrix $A$ i.e. the payoff received by strategy $i$ when it plays against $j$.\n",
      "\n",
      "The average fitness $\\phi$ is the sum of each strategy's fitness multiplied by it's frequency i.e.\n",
      "$$\\begin{equation}\n",
      "\\phi = \\sum_{i = 1}^n f_i x_i\n",
      "\\end{equation}$$\n",
      "\n",
      "We also know how each strategy's frequency changes with respect to time via the equation\n",
      "$$\\begin{equation}\n",
      "\\dot{x_i} = x_i ( f_i - \\phi )\n",
      "\\end{equation}$$\n",
      "\n",
      "This makes sense because if a strategy's fitness is greater than the average fitness, its frequency will increase and otherwise it will decrease, which ensures all frequencies sum to 1.\n",
      "\n",
      "In order to translate this into linear algebra, we define the vector $X$ to be the vector of strategy frequencies and $F$ to be the vector of fitnesses. Thus we have $F = AX$, $\\phi = X \\cdot F$ and $\\dot{X} = X \\circ ( F - \\phi )$. The Replicator function below has a line dedicated to each of these equations: first the fitness is calculated, then the average fitness, and then the change in frequency. Note that timeRange appears as an argument, but isn't used in the function. Because the replicator function is an argument for the ODE.jl package and it the package requires the first parameter of the funtction to represent a range of time (for non-autonomous systems) it must appear here as an argument."
     ]
    },
    {
     "cell_type": "code",
     "collapsed": false,
     "input": [
      "function replicator(timeRange, frequency::Array{Float64,1}, game::Array{Float64,2};mutationProbs = false)\n",
      "    \"\"\"\n",
      "    Parameters\n",
      "    ----------\n",
      "    timeRange: vector of the time range\n",
      "    frequency: vector of frequencies for each strategy\n",
      "    game: 2D payoff matrix\n",
      "    mutationProbs: this is not used by the function but appears for compatibility with the mutator function\n",
      "    \n",
      "    Returns:\n",
      "    vector of dfrequency/dt\n",
      "    \"\"\"\n",
      "    fitness = game * frequency    \n",
      "    averageFitness = dot(frequency, fitness) \n",
      "    #if a rounding error has put the trajectory out of bounds, stop the trajectory.\n",
      "    #note: I suspect there is a way to stop the ODE integrator when the output of this\n",
      "    #function is sufficiently small but I will need to look closer at the documentation\n",
      "    #if frequency[1] + frequency[2] + frequency[3] > 1\n",
      "    #    return [0; 0; 0]\n",
      "    #end\n",
      "    return frequency .* (fitness - averageFitness)\n",
      "end"
     ],
     "language": "python",
     "metadata": {},
     "outputs": [
      {
       "metadata": {},
       "output_type": "pyout",
       "prompt_number": 4,
       "text": [
        "replicator (generic function with 1 method)"
       ]
      }
     ],
     "prompt_number": 4
    },
    {
     "cell_type": "markdown",
     "metadata": {},
     "source": [
      "The replicator-mutator equation is similar to the replicator equation except that now the change in the $i$th strategy's frequency is  dependent on both every strategy's fitness and the probability of a strategy mutating to the $i$th strategy. The probability of the $j$th strategy mutating into the $i$th strategy is $Q_{ji}$ where Q is the mutation matrix. We thus have the equation: \n",
      "\n",
      "$$\\begin{equation}\n",
      "\\dot{x_i} = \\sum_{j = 1}^n x_{j} f_{j} Q_{ji} - \\phi x_i\n",
      "\\end{equation}$$\n",
      "\n",
      "In most cases, the matrix is defined via a constant $\\mu$ which determines the probability of a strategy mutating into a different strategy and to ensure the probabilities sum to 1 in each column, the probability of a strategy mutating into itself will be the leftover probability i.e. $1 - (n - 1) \\mu$. Thus with 3 strategies:\n",
      "\n",
      "$$\\begin{equation}\n",
      "Q = \\begin{bmatrix} \n",
      "1 - 2 \\mu & \\mu & \\mu \\\\ \n",
      "\\mu & 1 - 2 \\mu & \\mu \\\\ \n",
      "\\mu & \\mu & 1 - 2 \\mu  \n",
      "\\end{bmatrix}\n",
      "\\end{equation}$$\n",
      "\n",
      "The below cell builds a mutation matrix from your value of $\\mu$ and your number of strategies"
     ]
    },
    {
     "cell_type": "code",
     "collapsed": false,
     "input": [
      "function buildMutationMatrix(\u03bc,nStrategies)\n",
      "    #build the matrix holding the mutation probabilities\n",
      "    mutationProbs = fill(\u03bc,(nStrategies,nStrategies))\n",
      "    \n",
      "    #change the diagonal so that the matrix is a stochastic matrix\n",
      "    for i = 1:nStrategies\n",
      "        mutationProbs[i,i] = 1 - (nStrategies - 1) * \u03bc\n",
      "    end    \n",
      "    return mutationProbs\n",
      "end\n"
     ],
     "language": "python",
     "metadata": {},
     "outputs": [
      {
       "metadata": {},
       "output_type": "pyout",
       "prompt_number": 5,
       "text": [
        "buildMutationMatrix (generic function with 1 method)"
       ]
      }
     ],
     "prompt_number": 5
    },
    {
     "cell_type": "markdown",
     "metadata": {},
     "source": [
      "The reason each column must sum to 1 is that probabilities sum to 1 and the $i$th column represents all the probabilities that the $i$th strategy will mutate into the strategy of that row so it would be nonsensical for the sum to be greater than 1 as there isn't enough of the $i$th strategy to go around. Note also that in infinite populations, a 'probability' only really corresponds to a frequency as there is nothing stochastic occuring here.\n",
      "\n",
      "In vector form we have\n",
      "\n",
      "$\\dot{X} = Q X \\circ F - \\phi X$\n",
      "\n",
      "The below cell holds the Mutator function which applies this"
     ]
    },
    {
     "cell_type": "code",
     "collapsed": false,
     "input": [
      "function mutator(timeRange, frequency::Array{Float64,1},game::Array{Float64,2}; mutationProbs = false)\n",
      "    \"\"\"\n",
      "    Parameters\n",
      "    ----------\n",
      "    timeRange: vector of the time range\n",
      "    frequency: vector of frequencies for each strategy\n",
      "    game: 2D payoff matrix\n",
      "    mutationProbs:  2D mutation probability matrix\n",
      "    \n",
      "    Returns:\n",
      "    vector of dfrequency/dt\n",
      "    \"\"\"\n",
      "    \n",
      "    fitness = game * frequency\n",
      "\n",
      "    averageFitness = dot(frequency, fitness)\n",
      "    \n",
      "    return ((mutationProbs * frequency) .* fitness) - (averageFitness * frequency)\n",
      "end"
     ],
     "language": "python",
     "metadata": {},
     "outputs": [
      {
       "metadata": {},
       "output_type": "pyout",
       "prompt_number": 6,
       "text": [
        "mutator (generic function with 1 method)"
       ]
      }
     ],
     "prompt_number": 6
    },
    {
     "cell_type": "markdown",
     "metadata": {},
     "source": [
      "Considering that we have two functions, the mutator and the replicator, for use in our plotting and trajectory-finding functions, we need to be able to determine which one to be used. All functions allow you to enter as a keyword argument mutationProbs, or you can enter in \u03bc. The function below checks whether you entered one in and based on that, builds the mutationProbs matrix if need be and selects one of the mutator or replicator functions. Right now mutationProbs is defaulted to false which is a boolean but julia works best when you only use one type for one variable, and I'll need to look into how to check whether a kwarg is passed so that I don't need to use the 'muationProbs != false' line."
     ]
    },
    {
     "cell_type": "code",
     "collapsed": false,
     "input": [
      "function considerMutation(mutationProbs, \u03bc)\n",
      "    \n",
      "    #if you've passed a mutationProbs matrix then we know that the mutator must be used\n",
      "    if mutationProbs != false\n",
      "        return mutation, mutator         \n",
      "    end\n",
      "    \n",
      "    #if you've pased the mutation constant then we know that a mutationProbs matrix must be built and the mutator must be used\n",
      "    if \u03bc != 0.0\n",
      "        mutationProbs = buildMutationMatrix(\u03bc,nStrategies)\n",
      "        return mutationProbs, mutator\n",
      "    end\n",
      "    \n",
      "    #if you haven't passed either of those then you want the replicator\n",
      "    return false, replicator    \n",
      "end"
     ],
     "language": "python",
     "metadata": {},
     "outputs": [
      {
       "metadata": {},
       "output_type": "pyout",
       "prompt_number": 7,
       "text": [
        "considerMutation (generic function with 1 method)"
       ]
      }
     ],
     "prompt_number": 7
    },
    {
     "cell_type": "markdown",
     "metadata": {},
     "source": [
      "The function below takes a range of time, an initial frequency and a game and builds a table of the population states with corresponding time steps in the timeTable array. The function allows you to enter in mutation variables and lets you choose the solver from the ODE.jl package to use"
     ]
    },
    {
     "cell_type": "code",
     "collapsed": false,
     "input": [
      "function getTrajectory(timeRange,initialFrequency::Array{Float64,1},game::Array{Float64,2};mutationProbs = false, \u03bc = 0.0,solver = ode23)\n",
      "    \"\"\"\n",
      "    Parameters\n",
      "    ----------\n",
      "    timeRange: vector of the time range \n",
      "    initialFrequency: vector of starting frequencies for each strategy\n",
      "    game: square matrix holding the payoffs of the game\n",
      "    mutationProbs: 2D mutation probability matrix   \n",
      "    \u03bc: mutation constant, in case you haven't premade the mutation matrix and want it done here\n",
      "    solver: one of ode23, ode45, ode78 etc from the ODE.jl package\n",
      "    \n",
      "    Returns:\n",
      "    a vector of time steps and a matrix of the frequencies at each time step with rows corresponding_\n",
      "    to time steps and columns corresponding to strategies\n",
      "    \"\"\"\n",
      "    \n",
      "    nStrategies = length(initialFrequency)\n",
      "    \n",
      "    #check whether the mutator function or replicator function will be used\n",
      "    mutationProbs, evoFunction = considerMutation(mutationProbs, \u03bc) \n",
      "    \n",
      "    #get table of frequencies i.e. the trajectory\n",
      "    timeTable, trajectory = solver((timeRange,initialFrequency) -> evoFunction(timeRange,initialFrequency,game,mutationProbs = mutationProbs), initialFrequency, timeRange) \n",
      "\n",
      "    #number of steps used in the ODE solver\n",
      "    steps = size(trajectory,1)\n",
      "    \n",
      "    #array gymnastics to turn the outputted 1D trajectory array into a 2D array\n",
      "    trajectory = transpose(reshape(vcat(trajectory...),(nStrategies,steps)))\n",
      "\n",
      "    return (timeTable, trajectory)\n",
      "    \n",
      "end\n"
     ],
     "language": "python",
     "metadata": {},
     "outputs": [
      {
       "metadata": {},
       "output_type": "pyout",
       "prompt_number": 8,
       "text": [
        "getTrajectory (generic function with 1 method)"
       ]
      }
     ],
     "prompt_number": 8
    },
    {
     "cell_type": "markdown",
     "metadata": {},
     "source": [
      "The function below is for when you want a graphical representation of a system with two strategies. There's no point entering an inital population state because you will be able to see from the graph what will happen to the population from all possible starting points. The function plots the 1D simplex with the derivative of the first strategy's frequency also being shown at each point along the simplex."
     ]
    },
    {
     "cell_type": "code",
     "collapsed": false,
     "input": [
      "function twoStratsPhaseDiagram(game::Array{Float64,2}; mutationProbs = false, \u03bc = 0.0, labels = [\"S1\", \"S2\"], step = 0.001)\n",
      "    \n",
      "    nStrategies = 2\n",
      "    \n",
      "    #check whether the mutator function or replicator function will be used\n",
      "    mutationProbs, evoFunction = considerMutation(mutationProbs, \u03bc) \n",
      "\n",
      "    #set up the array to hold all the values of the derivative of the first strategy with respect to time\n",
      "    derivative = fill(0.0,int(ceil(1/step)+1))\n",
      "    \n",
      "    #the derivative array is plotted against this so that the x-axis scales to a 0 to 1 range\n",
      "    #at some point I want to find a way to bypass this because it probably wastes resources\n",
      "    xaxis = linspace(0,1,length(derivative)) \n",
      "    \n",
      "    #record the derivative of the first strategy at each step along the range of population states, and check critical points\n",
      "    j = 1\n",
      "    for i = 0.0:step:1.0\n",
      "        frequency = [i,1-i]\n",
      "        \n",
      "        #evoFunction will return a vector of both strategies' frequencies and we select the first one and store it\n",
      "        derivative[j] = evoFunction(false, frequency, game, mutationProbs = mutationProbs)[1]  \n",
      "        \n",
      "        #check whether there is a critical point and whether it is stable or unstable\n",
      "        if j > 2 && j < length(derivative)\n",
      "            #if a point is critical and the slope is positive\n",
      "            if derivative[j-1] > 0 && derivative[j-2] < 0 || (derivative[j-1] == 0 && derivative[j] > 0 && derivative[j-2] < 0)\n",
      "                #plot a white 'o' marker i.e. an open circle\n",
      "                plot(xaxis[j],0.0,\"wo\")\n",
      "                #show arrows pointed away from the critical point\n",
      "                arrow(xaxis[j],0.0,0.05,0.0,head_width=0.001, head_length=0.02, width = 0.0001,fc = \"b\", ec = \"b\",length_includes_head = true)\n",
      "                arrow(xaxis[j],0.0,-0.05,0.0,head_width=0.001, head_length=0.02, width = 0.0001,fc = \"b\", ec = \"b\",length_includes_head = true)\n",
      "            #if a point is critical  and the slope is negative\n",
      "            elseif derivative[j-1] < 0 && derivative[j-2] > 0 || (derivative[j-1] == 0 && derivative[j] < 0 && derivative[j-2] > 0)\n",
      "                #plot a black 'o' marker i.e. a closed circle\n",
      "                plot(xaxis[j],0.0,\"bo\") \n",
      "                #show arrows facing the critical point\n",
      "                arrow(xaxis[j]-0.05,0.0,0.05,0.0,head_width=0.001, head_length=0.02, width = 0.0001,fc = \"b\", ec = \"b\",length_includes_head = true)\n",
      "                arrow(xaxis[j]+0.05,0.0,-0.05,0.0,head_width=0.001, head_length=0.02, width = 0.0001,fc = \"b\", ec = \"b\",length_includes_head = true)\n",
      "            end\n",
      "        end\n",
      "        j += 1\n",
      "    end\n",
      "    \n",
      "    #note: need to find a way to store all the kwargs for arrow() but tuples aren't working right now\n",
      "    #note: need to make the arrows scale better\n",
      "\n",
      "    #check the stability of the left end point\n",
      "    if derivative[1] > 0 || (derivative[1] == 0 && derivative[2] > 0)\n",
      "        plot(xaxis[1],0.0,\"wo\")\n",
      "        arrow(xaxis[1],0.0,0.05,0.0,head_width=0.001, head_length=0.02, width = 0.0001,fc = \"b\", ec = \"b\",length_includes_head = true)\n",
      "    elseif derivative[1] < 0 || (derivative[1] == 0 && derivative[2] < 0)\n",
      "        plot(xaxis[1],0.0,\"bo\")\n",
      "        arrow(xaxis[1]+0.05,0.0,-0.05,0.0,head_width=0.001, head_length=0.02, width = 0.0001,fc = \"b\", ec = \"b\",length_includes_head = true)\n",
      "    end\n",
      "\n",
      "    #check the stability of the right end point\n",
      "    if derivative[length(derivative)] > 0 || (derivative[length(derivative)] == 0 && derivative[length(derivative)-1] > 0)\n",
      "        plot(xaxis[length(derivative)],0.0,\"bo\")\n",
      "        arrow(xaxis[length(derivative)]-0.05,0.0,0.05,0.0,head_width=0.001, head_length=0.02, width = 0.0001,fc = \"b\", ec = \"b\",length_includes_head = true)\n",
      "    elseif derivative[length(derivative)] < 0 || (derivative[length(derivative)] == 0 && derivative[length(derivative)-1] < 0)\n",
      "        plot(xaxis[length(derivative)],0.0,\"wo\")\n",
      "        arrow(xaxis[length(derivative)],0.0,-0.05,0.0,head_width=0.001, head_length=0.02, width = 0.0001,fc = \"b\", ec = \"b\",length_includes_head = true)\n",
      "    end\n",
      "    \n",
      "    plot(xaxis,derivative)\n",
      "\n",
      "    #show the labels of each strategy\n",
      "    text(-0.1,0,labels[2])\n",
      "    text(1.1,0,labels[1]) \n",
      "    \n",
      "    #enforce the x-range\n",
      "    PyPlot.xlim(-0.2,1.2)\n",
      "end"
     ],
     "language": "python",
     "metadata": {},
     "outputs": [
      {
       "metadata": {},
       "output_type": "pyout",
       "prompt_number": 9,
       "text": [
        "twoStratsPhaseDiagram (generic function with 1 method)"
       ]
      }
     ],
     "prompt_number": 9
    },
    {
     "cell_type": "code",
     "collapsed": false,
     "input": [
      "twoStratsPhaseDiagram([-1.0 2.0 ; -0.2 1.5])"
     ],
     "language": "python",
     "metadata": {},
     "outputs": [
      {
       "ename": "LoadError",
       "evalue": "text not defined\nwhile loading In[10], in expression starting on line 1",
       "output_type": "pyerr",
       "traceback": [
        "text not defined\nwhile loading In[10], in expression starting on line 1",
        "",
        " in getindex at /Users/juliangarcia/.julia/v0.3/PyCall/src/PyCall.jl:638",
        " in pysequence_query at /Users/juliangarcia/.julia/v0.3/PyCall/src/conversions.jl:741",
        " in pytype_query at /Users/juliangarcia/.julia/v0.3/PyCall/src/conversions.jl:757",
        " in convert at /Users/juliangarcia/.julia/v0.3/PyCall/src/conversions.jl:806",
        " in pycall at /Users/juliangarcia/.julia/v0.3/PyCall/src/PyCall.jl:808",
        " in fn at /Users/juliangarcia/.julia/v0.3/PyCall/src/conversions.jl:181",
        " in close_queued_figs at /Users/juliangarcia/.julia/v0.3/PyPlot/src/PyPlot.jl:231"
       ]
      }
     ],
     "prompt_number": 10
    },
    {
     "cell_type": "markdown",
     "metadata": {},
     "source": [
      "The function below takes a system with 3 strategies and constructs a trajectory on a phase diagram, with an arrow at the beginning of the trajectory showing the direction it takes."
     ]
    },
    {
     "cell_type": "code",
     "collapsed": false,
     "input": [
      "function threeStratsPhaseDiagram(timeRange, initialFrequency::Array{Float64,1}, game::Array{Float64,2}; mutationProbs = false, \u03bc = 0.0, solver = ode23, labels = [\"S1\", \"S2\",\"S3\"])\n",
      "    \n",
      "    #get the trajectory\n",
      "    timeTable, trajectory = getTrajectory(timeRange, initialFrequency, game, mutationProbs = mutationProbs, \u03bc = \u03bc, solver = solver)      \n",
      "    \n",
      "    #plot the trajectory as a phase diagram by plotting the third strategy's frequencies against the firsts\n",
      "    #note: It's 3rd against 1st because this matched the prisoner's dilemma simplex from the Imhof paper and it is arbitrary\n",
      "    plot(trajectory[:,3],trajectory[:,1],0,1)\n",
      "    \n",
      "    #draw an arrow at the beginning of the trajectory saying indicating the direction of the trajectory\n",
      "    arrow(trajectory[1,3],trajectory[1,1],trajectory[2,3]-trajectory[1,3],trajectory[2,1]-trajectory[1,1],head_width=0.02, head_length=0.02,alpha = 0.3, fc = \"k\", ec = \"k\")\n",
      "    \n",
      "    #show the labels of each strategy\n",
      "    text(-0.1,-0.1,labels[2])\n",
      "    text(1.1,-0.1,labels[3])     \n",
      "    text(-0.1,1.1,labels[1])       \n",
      "    \n",
      "    #enforce the x and y ranges\n",
      "    PyPlot.ylim(-0.2,1.2)\n",
      "    PyPlot.xlim(-0.2,1.2)\n",
      "    \n",
      "end"
     ],
     "language": "python",
     "metadata": {},
     "outputs": [
      {
       "metadata": {},
       "output_type": "pyout",
       "prompt_number": 11,
       "text": [
        "threeStratsPhaseDiagram (generic function with 1 method)"
       ]
      }
     ],
     "prompt_number": 11
    },
    {
     "cell_type": "code",
     "collapsed": false,
     "input": [
      "initialFrequency = [0.1; 0.4; 0.5]\n",
      "labels = [\"ALLC\",\"ALLD\",\"TFT\"]\n",
      "\u03bc = 0.1\n",
      "nStrategies = length(initialFrequency)\n",
      "timeRange = [0.0,100.0]\n",
      "game = Float64[0.0 5.0 -1.0 ; -1.0 0.0 1.0 ; 1.0 -3.0 0.0]\n",
      "step = 0.1\n",
      "\n",
      "threeStratsPhaseDiagram(timeRange, initialFrequency, game, labels = labels)"
     ],
     "language": "python",
     "metadata": {},
     "outputs": [
      {
       "ename": "LoadError",
       "evalue": "text not defined\nwhile loading In[12], in expression starting on line 9",
       "output_type": "pyerr",
       "traceback": [
        "text not defined\nwhile loading In[12], in expression starting on line 9",
        "",
        " in getindex at /Users/juliangarcia/.julia/v0.3/PyCall/src/PyCall.jl:638",
        " in pysequence_query at /Users/juliangarcia/.julia/v0.3/PyCall/src/conversions.jl:741",
        " in pytype_query at /Users/juliangarcia/.julia/v0.3/PyCall/src/conversions.jl:757",
        " in convert at /Users/juliangarcia/.julia/v0.3/PyCall/src/conversions.jl:806",
        " in pycall at /Users/juliangarcia/.julia/v0.3/PyCall/src/PyCall.jl:808",
        " in fn at /Users/juliangarcia/.julia/v0.3/PyCall/src/conversions.jl:181",
        " in close_queued_figs at /Users/juliangarcia/.julia/v0.3/PyPlot/src/PyPlot.jl:231"
       ]
      },
      {
       "output_type": "stream",
       "stream": "stderr",
       "text": [
        "Warning: using PyPlot.text in module Main conflicts with an existing identifier.\n",
        "Warning: using PyPlot.quiver in module Main conflicts with an existing identifier.\n"
       ]
      }
     ],
     "prompt_number": 12
    },
    {
     "cell_type": "markdown",
     "metadata": {},
     "source": [
      "The function below applies the above function at multiple initial population states to observe the behaviour of a system across a range of population states"
     ]
    },
    {
     "cell_type": "code",
     "collapsed": false,
     "input": [
      "function plotThreeStratsMultiTrajectories(timeRange, game::Array{Float64,2}; mutationProbs = false, \u03bc = 0.0, step = 0.2,solver = ode23,labels = false)\n",
      "    #plot trajectories starting at different points, determined by the value of step\n",
      "    for i = 0.0:step:1.0\n",
      "        for j = 0.0:step:(1-i)\n",
      "            initialFrequency = [i; j; 1-i-j]\n",
      "            threeStratsPhaseDiagram(timeRange,initialFrequency,game,mutationProbs = mutationProbs, \u03bc = \u03bc, labels = [\"\",\"\",\"\"])\n",
      "        end\n",
      "    end\n",
      "    \n",
      "    #show the labels of each strategy\n",
      "    if labels != [\"\",\"\",\"\"]\n",
      "        text(-0.1,-0.1,labels[2])\n",
      "        text(1.1,-0.1,labels[3])     \n",
      "        text(-0.1,1.1,labels[1])    \n",
      "    end\n",
      "    \n",
      "end"
     ],
     "language": "python",
     "metadata": {},
     "outputs": [
      {
       "metadata": {},
       "output_type": "pyout",
       "prompt_number": 13,
       "text": [
        "plotThreeStratsMultiTrajectories (generic function with 1 method)"
       ]
      }
     ],
     "prompt_number": 13
    },
    {
     "cell_type": "markdown",
     "metadata": {},
     "source": [
      "The function below is similar to the above function but only plots a vector field of the population states, meaning no integration takes place."
     ]
    },
    {
     "cell_type": "code",
     "collapsed": false,
     "input": [
      "labels = [\"ALLC\",\"ALLD\",\"TFT\"]\n",
      "\u03bc = 0.00000005\n",
      "nStrategies = length(initialFrequency)\n",
      "timeRange = [0.0,20.0]\n",
      "game = Float64[5 7 2; 8 6 5; 1 8 4]\n",
      "step = 0.02\n",
      "\n",
      "plotThreeStratsMultiTrajectories(timeRange, game, step = step, labels = labels, \u03bc = \u03bc)"
     ],
     "language": "python",
     "metadata": {},
     "outputs": []
    },
    {
     "cell_type": "code",
     "collapsed": false,
     "input": [
      "function plotThreeStratsVectorField(game::Array{Float64,2}; mutationProbs = false, \u03bc = 0.0,step = 0.1)\n",
      "    \n",
      "    #determine whether the mutator or replicator will be used and whether a mutationProbs matrix needs to be constructed\n",
      "    mutationProbs, evoFunction = considerMutation(mutationProbs, \u03bc) \n",
      "    \n",
      "    #draw a field of vectors indicating the direction of trajectories at different points, determined by the value of step\n",
      "    for i = 0.0:step:1.0\n",
      "        for j = 0.0:step:(1-i)\n",
      "            frequency = [i; j; 1-i-j]\n",
      "            #get X dot\n",
      "            frequencyDot = evoFunction(false, frequency,game,mutationProbs = mutationProbs)\n",
      "            #draw an arrow pointing in the direction of X dot\n",
      "            quiver(1-i-j,i,frequencyDot[3],frequencyDot[1],pivot = \"mid\",units = \"width\")\n",
      "        end\n",
      "    end    \n",
      "    \n",
      "    #show the labels of each strategy\n",
      "    text(-0.1,-0.1,labels[2])\n",
      "    text(1.1,-0.1,labels[3])     \n",
      "    text(-0.1,1.1,labels[1]) \n",
      "    \n",
      "    #enforce the x and y ranges\n",
      "    PyPlot.ylim(-0.2,1.2)\n",
      "    PyPlot.xlim(-0.2,1.2)\n",
      "    \n",
      "end"
     ],
     "language": "python",
     "metadata": {},
     "outputs": [
      {
       "metadata": {},
       "output_type": "pyout",
       "prompt_number": 1,
       "text": [
        "plotThreeStratsVectorField (generic function with 1 method)"
       ]
      }
     ],
     "prompt_number": 1
    },
    {
     "cell_type": "code",
     "collapsed": false,
     "input": [
      "plotThreeStratsVectorField(Float64[0.0 1.0 -1.0 ; -1.0 0.0 1.0 ; 1.0 -1.0 0.0])"
     ],
     "language": "python",
     "metadata": {},
     "outputs": [
      {
       "ename": "LoadError",
       "evalue": "considerMutation not defined\nwhile loading In[2], in expression starting on line 1",
       "output_type": "pyerr",
       "traceback": [
        "considerMutation not defined\nwhile loading In[2], in expression starting on line 1",
        "",
        " in plotThreeStratsVectorField at In[1]:4"
       ]
      }
     ],
     "prompt_number": 2
    },
    {
     "cell_type": "markdown",
     "metadata": {},
     "source": [
      "The function below gets the trajectory of a population starting at some initial population and plots each strategy's frequency against time"
     ]
    },
    {
     "cell_type": "code",
     "collapsed": false,
     "input": [
      "function plotAgainstTime(timeRange, initialFrequency::Array{Float64,1}, game::Array{Float64,2};labels = [\"S1\"], mutationProbs = false, \u03bc = 0.0, solver = ode23)\n",
      "    \n",
      "    nStrategies = length(initialFrequency)\n",
      "    \n",
      "    #get the frequencies of each strategy and the table of time steps taken\n",
      "    timeTable, trajectory = getTrajectory(timeRange, initialFrequency, game, mutationProbs = mutationProbs, \u03bc = \u03bc, solver = solver)\n",
      "    \n",
      "    #make more labels if you don't have enough\n",
      "    for i = length(labels):nStrategies\n",
      "        labels = vcat(labels,[\"S$(i+1)\"])\n",
      "    end\n",
      "    \n",
      "    #plot each frequency against time\n",
      "    for i = 1:nStrategies\n",
      "        plot(timeTable,trajectory[:,i], label = labels[i])\n",
      "    end\n",
      "    \n",
      "    #show the legend\n",
      "    legend(bbox_to_anchor=(1.05, 1), loc=2, borderaxespad=0.)    \n",
      "    \n",
      "    #enforce x and y ranges\n",
      "    PyPlot.ylim(-0.1,1.1)\n",
      "    PyPlot.xlim(0,timeTable[length(timeTable)])\n",
      "    \n",
      "end"
     ],
     "language": "python",
     "metadata": {},
     "outputs": [
      {
       "metadata": {},
       "output_type": "pyout",
       "prompt_number": 16,
       "text": [
        "plotAgainstTime (generic function with 1 method)"
       ]
      }
     ],
     "prompt_number": 16
    },
    {
     "cell_type": "code",
     "collapsed": false,
     "input": [
      "initialFrequency = [0.5; 0.3; 0.2]\n",
      "labels = [\"rock\",\"paper\",\"scissors\"]\n",
      "\u03bc = 0.0\n",
      "nStrategies = length(initialFrequency)\n",
      "timeRange = [0.0,50.0]\n",
      "game = Float64[0.0 1.0 -1.0 ; -1.0 0.0 1.0 ; 1.0 -1.0 0.0]\n",
      "step = 0.1\n",
      "\n",
      "plotAgainstTime(timeRange, initialFrequency, game, labels = labels, \u03bc = 0.0001)"
     ],
     "language": "python",
     "metadata": {},
     "outputs": [
      {
       "metadata": {},
       "output_type": "display_data",
       "png": "[encoded data removed]",
       "text": [
        "Figure(PyObject <matplotlib.figure.Figure object at 0x00000000374B6DA0>)"
       ]
      },
      {
       "metadata": {},
       "output_type": "pyout",
       "prompt_number": 17,
       "text": [
        "(0,50.0)"
       ]
      }
     ],
     "prompt_number": 17
    },
    {
     "cell_type": "code",
     "collapsed": false,
     "input": [
      "#prisoners dilemma\n",
      "T = 5.0 #temptation for defecting\n",
      "R = 3.0 #reward for cooperation\n",
      "P = 1.0 #punishment for mutual defecting\n",
      "S = 0.1 #sucker's payoff\n",
      "m = 10.0 #number of rounds\n",
      "c = 0.8 #cost value of TFT\n",
      "#game = Float64[R*m S*m R*m ; T*m P*m T+P*(m-1) ; R*m-c S+P*(m-1)-c R*m-c]\n",
      "game = Float64[30 1 30; 50 10 14; 29.2 8.3 29.2]\n",
      "timeRange = [0.0, 50.0]\n",
      "plotThreeStratsMultiTrajectories(timeRange, game,step = 0.3)"
     ],
     "language": "python",
     "metadata": {},
     "outputs": [
      {
       "ename": "LoadError",
       "evalue": "BoundsError()\nwhile loading In[14], in expression starting on line 11",
       "output_type": "pyerr",
       "traceback": [
        "BoundsError()\nwhile loading In[14], in expression starting on line 11",
        "",
        " in getindex at C:\\Users\\Duffield\\.julia\\v0.3\\PyCall\\src\\PyCall.jl:625",
        " in pysequence_query at C:\\Users\\Duffield\\.julia\\v0.3\\PyCall\\src\\conversions.jl:741",
        " in pysequence_query at C:\\Users\\Duffield\\.julia\\v0.3\\PyCall\\src\\conversions.jl:729"
       ]
      }
     ],
     "prompt_number": 14
    }
   ],
   "metadata": {}
  }
 ]
}